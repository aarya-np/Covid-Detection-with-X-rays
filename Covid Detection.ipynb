{
 "cells": [
  {
   "cell_type": "code",
   "execution_count": 2,
   "id": "dc5b399b",
   "metadata": {},
   "outputs": [],
   "source": [
    "import zipfile\n",
    "local_path='./archive.zip'\n",
    "zip_ref=zipfile.ZipFile(local_path,'r')\n",
    "zip_ref.extractall()\n",
    "zip_ref.close()"
   ]
  },
  {
   "cell_type": "code",
   "execution_count": 3,
   "id": "94da2770",
   "metadata": {},
   "outputs": [],
   "source": [
    "import os\n",
    "train_dir=os.path.join('./Covid19-dataset/train')\n",
    "test_dir=os.path.join('./Covid19-dataset/test')"
   ]
  },
  {
   "cell_type": "code",
   "execution_count": 4,
   "id": "853908d5",
   "metadata": {},
   "outputs": [
    {
     "name": "stdout",
     "output_type": "stream",
     "text": [
      "['Covid', 'Normal', 'Viral Pneumonia']\n",
      "['Covid', 'Normal', 'Viral Pneumonia']\n"
     ]
    }
   ],
   "source": [
    "train_names=os.listdir(train_dir)\n",
    "print(train_names)\n",
    "test_names=os.listdir(test_dir)\n",
    "print(test_names)"
   ]
  },
  {
   "cell_type": "code",
   "execution_count": 7,
   "id": "466602fd",
   "metadata": {},
   "outputs": [
    {
     "name": "stdout",
     "output_type": "stream",
     "text": [
      "['01.jpeg', '010.png', '012.jpeg', '015.jpg', '019.png']\n"
     ]
    }
   ],
   "source": [
    "train_Covid_names=os.listdir('./Covid19-dataset/train/Covid')\n",
    "print(train_Covid_names[0:5])"
   ]
  },
  {
   "cell_type": "code",
   "execution_count": 8,
   "id": "dcdfd013",
   "metadata": {},
   "outputs": [],
   "source": [
    "import tensorflow as tf\n",
    "from tensorflow.keras.preprocessing.image import ImageDataGenerator"
   ]
  },
  {
   "cell_type": "markdown",
   "id": "c23dae60",
   "metadata": {},
   "source": [
    "train_gen=ImageDataGenerator(rescale=1.0/255.0,\n",
    "                            height_shift_range=0.2,\n",
    "                            width_shift_range=0.2,\n",
    "                            rotation_range=40,\n",
    "                            zoom_range=0.2,\n",
    "                            horizontal_flip=True,\n",
    "                            fill_mode='nearest')\n",
    "test_gen=ImageDataGenerator(rescale=1.0/255.0)"
   ]
  },
  {
   "cell_type": "code",
   "execution_count": 16,
   "id": "cc0c3440",
   "metadata": {},
   "outputs": [],
   "source": [
    "train_gen=ImageDataGenerator(rescale=1.0/255.0)\n",
    "test_gen=ImageDataGenerator(rescale=1.0/255.0)"
   ]
  },
  {
   "cell_type": "code",
   "execution_count": 17,
   "id": "fe6eb4ba",
   "metadata": {},
   "outputs": [
    {
     "name": "stdout",
     "output_type": "stream",
     "text": [
      "Found 251 images belonging to 3 classes.\n",
      "Found 251 images belonging to 3 classes.\n"
     ]
    }
   ],
   "source": [
    "train_generator=train_gen.flow_from_directory(train_dir,\n",
    "                                                  target_size=(300,300),\n",
    "                                                  batch_size=32,\n",
    "                                                  class_mode='categorical')\n",
    "test_generator=test_gen.flow_from_directory(train_dir,\n",
    "                                                  target_size=(300,300),\n",
    "                                                  batch_size=32,\n",
    "                                                  class_mode='categorical')"
   ]
  },
  {
   "cell_type": "code",
   "execution_count": 13,
   "id": "52343ff8",
   "metadata": {},
   "outputs": [
    {
     "name": "stdout",
     "output_type": "stream",
     "text": [
      "WARNING:tensorflow:From C:\\Users\\Dell\\AppData\\Local\\Programs\\Python\\Python311\\Lib\\site-packages\\keras\\src\\backend.py:873: The name tf.get_default_graph is deprecated. Please use tf.compat.v1.get_default_graph instead.\n",
      "\n",
      "WARNING:tensorflow:From C:\\Users\\Dell\\AppData\\Local\\Programs\\Python\\Python311\\Lib\\site-packages\\keras\\src\\layers\\pooling\\max_pooling2d.py:161: The name tf.nn.max_pool is deprecated. Please use tf.nn.max_pool2d instead.\n",
      "\n"
     ]
    }
   ],
   "source": [
    "model=tf.keras.models.Sequential([tf.keras.layers.Conv2D(16,(3,3),activation='relu',input_shape=(300,300,3)),\n",
    "                                 tf.keras.layers.MaxPooling2D(2,2),\n",
    "                                 tf.keras.layers.Conv2D(32,(3,3),activation='relu'),\n",
    "                                 tf.keras.layers.MaxPooling2D(2,2),\n",
    "                                 tf.keras.layers.Conv2D(64,(3,3),activation='relu'),\n",
    "                                 tf.keras.layers.MaxPooling2D(2,2),\n",
    "                                 tf.keras.layers.Conv2D(64,(3,3),activation='relu'),\n",
    "                                 tf.keras.layers.MaxPooling2D(2,2),\n",
    "                                 tf.keras.layers.Conv2D(64,(3,3),activation='relu'),\n",
    "                                 tf.keras.layers.MaxPooling2D(2,2),\n",
    "                                 tf.keras.layers.Flatten(),\n",
    "                                 tf.keras.layers.Dense(512,activation='relu'),\n",
    "                                 tf.keras.layers.Dense(3,activation='sigmoid')])\n",
    "model.build()"
   ]
  },
  {
   "cell_type": "code",
   "execution_count": 14,
   "id": "ec38c777",
   "metadata": {},
   "outputs": [
    {
     "name": "stdout",
     "output_type": "stream",
     "text": [
      "Model: \"sequential\"\n",
      "_________________________________________________________________\n",
      " Layer (type)                Output Shape              Param #   \n",
      "=================================================================\n",
      " conv2d (Conv2D)             (None, 298, 298, 16)      448       \n",
      "                                                                 \n",
      " max_pooling2d (MaxPooling2  (None, 149, 149, 16)      0         \n",
      " D)                                                              \n",
      "                                                                 \n",
      " conv2d_1 (Conv2D)           (None, 147, 147, 32)      4640      \n",
      "                                                                 \n",
      " max_pooling2d_1 (MaxPoolin  (None, 73, 73, 32)        0         \n",
      " g2D)                                                            \n",
      "                                                                 \n",
      " conv2d_2 (Conv2D)           (None, 71, 71, 64)        18496     \n",
      "                                                                 \n",
      " max_pooling2d_2 (MaxPoolin  (None, 35, 35, 64)        0         \n",
      " g2D)                                                            \n",
      "                                                                 \n",
      " conv2d_3 (Conv2D)           (None, 33, 33, 64)        36928     \n",
      "                                                                 \n",
      " max_pooling2d_3 (MaxPoolin  (None, 16, 16, 64)        0         \n",
      " g2D)                                                            \n",
      "                                                                 \n",
      " conv2d_4 (Conv2D)           (None, 14, 14, 64)        36928     \n",
      "                                                                 \n",
      " max_pooling2d_4 (MaxPoolin  (None, 7, 7, 64)          0         \n",
      " g2D)                                                            \n",
      "                                                                 \n",
      " flatten (Flatten)           (None, 3136)              0         \n",
      "                                                                 \n",
      " dense (Dense)               (None, 512)               1606144   \n",
      "                                                                 \n",
      " dense_1 (Dense)             (None, 3)                 1539      \n",
      "                                                                 \n",
      "=================================================================\n",
      "Total params: 1705123 (6.50 MB)\n",
      "Trainable params: 1705123 (6.50 MB)\n",
      "Non-trainable params: 0 (0.00 Byte)\n",
      "_________________________________________________________________\n"
     ]
    }
   ],
   "source": [
    "model.summary()"
   ]
  },
  {
   "cell_type": "code",
   "execution_count": 18,
   "id": "c7d56bfc",
   "metadata": {},
   "outputs": [
    {
     "name": "stdout",
     "output_type": "stream",
     "text": [
      "Epoch 1/20\n",
      "8/8 [==============================] - 15s 2s/step - loss: 0.5605 - accuracy: 0.7689 - val_loss: 0.4653 - val_accuracy: 0.7729\n",
      "Epoch 2/20\n",
      "8/8 [==============================] - 15s 2s/step - loss: 0.4224 - accuracy: 0.8247 - val_loss: 0.2844 - val_accuracy: 0.9163\n",
      "Epoch 3/20\n",
      "8/8 [==============================] - 15s 2s/step - loss: 0.3019 - accuracy: 0.8805 - val_loss: 0.2316 - val_accuracy: 0.9203\n",
      "Epoch 4/20\n",
      "8/8 [==============================] - 14s 2s/step - loss: 0.2281 - accuracy: 0.9203 - val_loss: 0.1794 - val_accuracy: 0.9323\n",
      "Epoch 5/20\n",
      "8/8 [==============================] - 13s 2s/step - loss: 0.1727 - accuracy: 0.9363 - val_loss: 0.1405 - val_accuracy: 0.9482\n",
      "Epoch 6/20\n",
      "8/8 [==============================] - 13s 2s/step - loss: 0.1569 - accuracy: 0.9363 - val_loss: 0.1299 - val_accuracy: 0.9442\n",
      "Epoch 7/20\n",
      "8/8 [==============================] - 13s 2s/step - loss: 0.1495 - accuracy: 0.9363 - val_loss: 0.1169 - val_accuracy: 0.9562\n",
      "Epoch 8/20\n",
      "8/8 [==============================] - 13s 2s/step - loss: 0.1774 - accuracy: 0.9323 - val_loss: 0.2057 - val_accuracy: 0.9044\n",
      "Epoch 9/20\n",
      "8/8 [==============================] - 14s 2s/step - loss: 0.1108 - accuracy: 0.9482 - val_loss: 0.1190 - val_accuracy: 0.9562\n",
      "Epoch 10/20\n",
      "8/8 [==============================] - 14s 2s/step - loss: 0.1053 - accuracy: 0.9641 - val_loss: 0.0877 - val_accuracy: 0.9761\n",
      "Epoch 11/20\n",
      "8/8 [==============================] - 14s 2s/step - loss: 0.0788 - accuracy: 0.9721 - val_loss: 0.0587 - val_accuracy: 0.9721\n",
      "Epoch 12/20\n",
      "8/8 [==============================] - 13s 2s/step - loss: 0.0479 - accuracy: 0.9761 - val_loss: 0.0288 - val_accuracy: 0.9920\n",
      "Epoch 13/20\n",
      "8/8 [==============================] - 14s 2s/step - loss: 0.0313 - accuracy: 0.9880 - val_loss: 0.0130 - val_accuracy: 1.0000\n",
      "Epoch 14/20\n",
      "8/8 [==============================] - 14s 2s/step - loss: 0.0163 - accuracy: 1.0000 - val_loss: 0.0070 - val_accuracy: 1.0000\n",
      "Epoch 15/20\n",
      "8/8 [==============================] - 14s 2s/step - loss: 0.0074 - accuracy: 1.0000 - val_loss: 0.0048 - val_accuracy: 1.0000\n",
      "Epoch 16/20\n",
      "8/8 [==============================] - 13s 2s/step - loss: 0.0120 - accuracy: 0.9960 - val_loss: 0.0092 - val_accuracy: 1.0000\n",
      "Epoch 17/20\n",
      "8/8 [==============================] - 14s 2s/step - loss: 0.0393 - accuracy: 0.9841 - val_loss: 0.1033 - val_accuracy: 0.9562\n",
      "Epoch 18/20\n",
      "8/8 [==============================] - 14s 2s/step - loss: 0.1144 - accuracy: 0.9562 - val_loss: 0.0849 - val_accuracy: 0.9641\n",
      "Epoch 19/20\n",
      "8/8 [==============================] - 16s 2s/step - loss: 0.0955 - accuracy: 0.9641 - val_loss: 0.0550 - val_accuracy: 0.9841\n",
      "Epoch 20/20\n",
      "8/8 [==============================] - 16s 2s/step - loss: 0.0372 - accuracy: 0.9920 - val_loss: 0.0288 - val_accuracy: 0.9880\n"
     ]
    }
   ],
   "source": [
    "model.compile(loss=tf.keras.losses.CategoricalCrossentropy(),\n",
    "             optimizer=tf.keras.optimizers.Adam(learning_rate=0.001),\n",
    "             metrics=['accuracy'])\n",
    "history=model.fit(train_generator, epochs=20, validation_data=test_generator)"
   ]
  },
  {
   "cell_type": "code",
   "execution_count": 19,
   "id": "2d95ec6c",
   "metadata": {},
   "outputs": [
    {
     "name": "stderr",
     "output_type": "stream",
     "text": [
      "C:\\Users\\Dell\\AppData\\Local\\Programs\\Python\\Python311\\Lib\\site-packages\\keras\\src\\engine\\training.py:3103: UserWarning: You are saving your model as an HDF5 file via `model.save()`. This file format is considered legacy. We recommend using instead the native Keras format, e.g. `model.save('my_model.keras')`.\n",
      "  saving_api.save_model(\n"
     ]
    }
   ],
   "source": [
    "model.save('model.h5')"
   ]
  },
  {
   "cell_type": "code",
   "execution_count": null,
   "id": "dfbb1c93",
   "metadata": {},
   "outputs": [],
   "source": []
  }
 ],
 "metadata": {
  "kernelspec": {
   "display_name": "Python 3 (ipykernel)",
   "language": "python",
   "name": "python3"
  },
  "language_info": {
   "codemirror_mode": {
    "name": "ipython",
    "version": 3
   },
   "file_extension": ".py",
   "mimetype": "text/x-python",
   "name": "python",
   "nbconvert_exporter": "python",
   "pygments_lexer": "ipython3",
   "version": "3.11.0"
  }
 },
 "nbformat": 4,
 "nbformat_minor": 5
}
